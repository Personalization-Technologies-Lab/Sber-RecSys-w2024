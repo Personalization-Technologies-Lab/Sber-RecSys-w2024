{
 "cells": [
  {
   "attachments": {},
   "cell_type": "markdown",
   "metadata": {},
   "source": [
    "# Setting up Colab environment"
   ]
  },
  {
   "cell_type": "code",
   "execution_count": null,
   "metadata": {},
   "outputs": [],
   "source": [
    "import os\n",
    "username = 'Personalization-Technologies-Lab'\n",
    "repo = 'Sber-RecSys-w2024'\n",
    "\n",
    "# remove local directory if it already exists\n",
    "if os.path.isdir(repo):\n",
    "    !rm -rf {repo}\n",
    "\n",
    "!git clone https://github.com/{username}/{repo}.git"
   ]
  },
  {
   "cell_type": "code",
   "execution_count": null,
   "metadata": {},
   "outputs": [],
   "source": [
    "!pip install --no-cache-dir --upgrade git+https://github.com/evfro/polara.git@develop#egg=polara"
   ]
  },
  {
   "cell_type": "code",
   "execution_count": 94,
   "metadata": {},
   "outputs": [],
   "source": [
    "import pandas as pd\n",
    "import numpy as np\n",
    "from tqdm.auto import tqdm\n",
    "\n",
    "import torch\n",
    "import torch.nn as nn\n",
    "\n",
    "from polara import get_movielens_data\n",
    "from polara.preprocessing.dataframes import reindex, leave_one_out\n",
    "\n",
    "# navigating to cloned repo directory in Colab\n",
    "%cd {repo}\n",
    "from dataprep import transform_indices, matrix_from_data\n",
    "from evaluation import topn_recommendations, model_evaluate, downvote_seen_items\n",
    "%cd -"
   ]
  },
  {
   "cell_type": "code",
   "execution_count": 95,
   "metadata": {},
   "outputs": [],
   "source": [
    "def fix_torch_seed(seed):\n",
    "    torch.manual_seed(seed)\n",
    "    torch.cuda.manual_seed_all(seed)"
   ]
  },
  {
   "attachments": {},
   "cell_type": "markdown",
   "metadata": {},
   "source": [
    "# Preparing data"
   ]
  },
  {
   "cell_type": "code",
   "execution_count": 96,
   "metadata": {},
   "outputs": [],
   "source": [
    "mldata = get_movielens_data(include_time=True)"
   ]
  },
  {
   "cell_type": "code",
   "execution_count": 97,
   "metadata": {},
   "outputs": [],
   "source": [
    "test_timepoint = mldata['timestamp'].quantile(\n",
    "    q=0.95, interpolation='nearest'\n",
    ")"
   ]
  },
  {
   "cell_type": "code",
   "execution_count": 98,
   "metadata": {},
   "outputs": [],
   "source": [
    "test_data_ = mldata.query('timestamp >= @test_timepoint')"
   ]
  },
  {
   "cell_type": "code",
   "execution_count": 99,
   "metadata": {},
   "outputs": [
    {
     "data": {
      "text/plain": [
       "userid         813\n",
       "movieid       3249\n",
       "rating           5\n",
       "timestamp    33729\n",
       "dtype: int64"
      ]
     },
     "execution_count": 99,
     "metadata": {},
     "output_type": "execute_result"
    }
   ],
   "source": [
    "test_data_.nunique()"
   ]
  },
  {
   "cell_type": "code",
   "execution_count": 100,
   "metadata": {},
   "outputs": [],
   "source": [
    "train_data_ = mldata.query(\n",
    "    'userid not in @test_data_.userid.unique() and timestamp < @test_timepoint'\n",
    ")"
   ]
  },
  {
   "cell_type": "code",
   "execution_count": 101,
   "metadata": {},
   "outputs": [],
   "source": [
    "training, data_index = transform_indices(train_data_.copy(), 'userid', 'movieid')"
   ]
  },
  {
   "cell_type": "code",
   "execution_count": 102,
   "metadata": {},
   "outputs": [
    {
     "name": "stdout",
     "output_type": "stream",
     "text": [
      "Filtered 64 invalid observations.\n"
     ]
    }
   ],
   "source": [
    "test_data = reindex(test_data_, data_index['items'])"
   ]
  },
  {
   "cell_type": "code",
   "execution_count": 103,
   "metadata": {},
   "outputs": [
    {
     "data": {
      "text/plain": [
       "userid         813\n",
       "movieid       3220\n",
       "rating           5\n",
       "timestamp    33678\n",
       "dtype: int64"
      ]
     },
     "execution_count": 103,
     "metadata": {},
     "output_type": "execute_result"
    }
   ],
   "source": [
    "test_data.nunique()"
   ]
  },
  {
   "attachments": {},
   "cell_type": "markdown",
   "metadata": {},
   "source": [
    "We sample the last item for each test user.  \n",
    "As all these users are excluded from the training, and training is additionally filtered by timestamp,\n",
    "there will be no \"recommendation from future\" issue - our model is unaware of future correlations.\n"
   ]
  },
  {
   "cell_type": "code",
   "execution_count": 104,
   "metadata": {},
   "outputs": [],
   "source": [
    "testset_, holdout_ = leave_one_out(\n",
    "    test_data, target='timestamp', sample_top=True, random_state=0\n",
    ")\n",
    "testset_valid_, holdout_valid_ = leave_one_out(\n",
    "    testset_, target='timestamp', sample_top=True, random_state=0\n",
    ")"
   ]
  },
  {
   "attachments": {},
   "cell_type": "markdown",
   "metadata": {},
   "source": [
    "Let's focus on validation part."
   ]
  },
  {
   "cell_type": "code",
   "execution_count": 105,
   "metadata": {},
   "outputs": [],
   "source": [
    "userid = data_index['users'].name\n",
    "test_users = pd.Index(\n",
    "    # ensure test users are the same across testing data\n",
    "    np.intersect1d(\n",
    "        testset_valid_[userid].unique(),\n",
    "        holdout_valid_[userid].unique()\n",
    "    )\n",
    ")\n",
    "testset_valid = (\n",
    "    testset_valid_\n",
    "    # reindex warm-start users for convenience\n",
    "    .assign(**{userid: lambda x: test_users.get_indexer(x[userid])})\n",
    "    .query(f'{userid} >= 0')\n",
    "    .sort_values('userid')\n",
    ")\n",
    "holdout_valid = (\n",
    "    holdout_valid_\n",
    "    # reindex warm-start users for convenience\n",
    "    .assign(**{userid: lambda x: test_users.get_indexer(x[userid])})\n",
    "    .query(f'{userid} >= 0')\n",
    "    .sort_values('userid')\n",
    ")"
   ]
  },
  {
   "cell_type": "code",
   "execution_count": 106,
   "metadata": {},
   "outputs": [
    {
     "data": {
      "text/plain": [
       "userid         750\n",
       "movieid       3202\n",
       "rating           5\n",
       "timestamp    32400\n",
       "dtype: int64"
      ]
     },
     "execution_count": 106,
     "metadata": {},
     "output_type": "execute_result"
    }
   ],
   "source": [
    "testset_valid.nunique()"
   ]
  },
  {
   "cell_type": "code",
   "execution_count": 107,
   "metadata": {},
   "outputs": [
    {
     "data": {
      "text/plain": [
       "(750, 4)"
      ]
     },
     "execution_count": 107,
     "metadata": {},
     "output_type": "execute_result"
    }
   ],
   "source": [
    "holdout_valid.shape"
   ]
  },
  {
   "cell_type": "code",
   "execution_count": 108,
   "metadata": {},
   "outputs": [],
   "source": [
    "assert holdout_valid.set_index('userid')['timestamp'].ge(\n",
    "    testset_valid\n",
    "    .groupby('userid')\n",
    "    ['timestamp'].max()\n",
    ").all()"
   ]
  },
  {
   "cell_type": "code",
   "execution_count": 109,
   "metadata": {},
   "outputs": [
    {
     "data": {
      "text/plain": [
       "{'users': 'userid',\n",
       " 'items': 'movieid',\n",
       " 'order': 'timestamp',\n",
       " 'n_users': 5227,\n",
       " 'n_items': 3652}"
      ]
     },
     "execution_count": 109,
     "metadata": {},
     "output_type": "execute_result"
    }
   ],
   "source": [
    "data_description = dict(\n",
    "    users = data_index['users'].name,\n",
    "    items = data_index['items'].name,\n",
    "    order = 'timestamp',\n",
    "    n_users = len(data_index['users']),\n",
    "    n_items = len(data_index['items']),\n",
    ")\n",
    "data_description"
   ]
  },
  {
   "attachments": {},
   "cell_type": "markdown",
   "metadata": {},
   "source": [
    "# Batch Sampler"
   ]
  },
  {
   "cell_type": "code",
   "execution_count": 110,
   "metadata": {},
   "outputs": [],
   "source": [
    "def sequential_batch_sampler(user_train, usernum, itemnum, batch_size, maxlen, seed, pad_token=None):\n",
    "    if pad_token is None:\n",
    "        pad_token = itemnum\n",
    "\n",
    "    def sample(random_state):\n",
    "        user = random_state.randint(usernum)\n",
    "        while len(user_train.get(user, [])) <= 1:\n",
    "            user = random_state.randint(usernum)\n",
    "        user_items = user_train[user]\n",
    "        seq = np.full(maxlen, pad_token, dtype=np.int32)\n",
    "        pos = np.full(maxlen, pad_token, dtype=np.int32)\n",
    "        neg = np.full(maxlen, pad_token, dtype=np.int32)\n",
    "        nxt = user_items[-1]\n",
    "        idx = maxlen - 1\n",
    "        ts = set(user_items)\n",
    "        for i in reversed(user_items[:-1]):\n",
    "            seq[idx] = i\n",
    "            pos[idx] = nxt\n",
    "            neg[idx] = random_neq(0, itemnum, ts, random_state)\n",
    "            nxt = i\n",
    "            idx -= 1\n",
    "            if idx == -1:\n",
    "                break\n",
    "        return (user, seq, pos, neg)\n",
    "\n",
    "    random_state = np.random.RandomState(seed)\n",
    "    while True:\n",
    "        yield zip(*(sample(random_state) for _ in range(batch_size)))\n",
    "\n",
    "\n",
    "def random_neq(l, r, s, random_state):\n",
    "    t = random_state.randint(l, r)\n",
    "    while t in s:\n",
    "        t = random_state.randint(l, r)\n",
    "    return t"
   ]
  },
  {
   "attachments": {},
   "cell_type": "markdown",
   "metadata": {},
   "source": [
    "# SASRec model"
   ]
  },
  {
   "attachments": {},
   "cell_type": "markdown",
   "metadata": {},
   "source": [
    "The code is adapted from https://github.com/pmixer/SASRec.pytorch"
   ]
  },
  {
   "cell_type": "code",
   "execution_count": 111,
   "metadata": {},
   "outputs": [],
   "source": [
    "class PointWiseFeedForward(nn.Module):\n",
    "    def __init__(self, hidden_units, dropout_rate):\n",
    "\n",
    "        super(PointWiseFeedForward, self).__init__()\n",
    "\n",
    "        self.conv1 = nn.Conv1d(hidden_units, hidden_units, kernel_size=1)\n",
    "        self.dropout1 = nn.Dropout(p=dropout_rate)\n",
    "        self.relu = nn.ReLU()\n",
    "        self.conv2 = nn.Conv1d(hidden_units, hidden_units, kernel_size=1)\n",
    "        self.dropout2 = nn.Dropout(p=dropout_rate)\n",
    "\n",
    "    def forward(self, inputs):\n",
    "        outputs = self.dropout2(self.conv2(self.relu(self.dropout1(self.conv1(inputs.transpose(-1, -2))))))\n",
    "        outputs = outputs.transpose(-1, -2) # as Conv1D requires (N, C, Length)\n",
    "        outputs += inputs\n",
    "        return outputs\n",
    "\n",
    "\n",
    "class SASRec(nn.Module):\n",
    "    def __init__(self, item_num, config):\n",
    "        super(SASRec, self).__init__()\n",
    "        self.item_num = item_num\n",
    "        self.pad_token = item_num\n",
    "\n",
    "        self.item_emb = nn.Embedding(self.item_num+1, config['hidden_units'], padding_idx=self.pad_token)\n",
    "        self.pos_emb = nn.Embedding(config['maxlen'], config['hidden_units'])\n",
    "        self.emb_dropout = nn.Dropout(p=config['dropout_rate'])\n",
    "\n",
    "        self.attention_layernorms = nn.ModuleList() # to be Q for self-attention\n",
    "        self.attention_layers = nn.ModuleList()\n",
    "        self.forward_layernorms = nn.ModuleList()\n",
    "        self.forward_layers = nn.ModuleList()\n",
    "        self.last_layernorm = nn.LayerNorm(config['hidden_units'], eps=1e-8)\n",
    "\n",
    "        for _ in range(config['num_blocks']):\n",
    "            new_attn_layernorm = nn.LayerNorm(config['hidden_units'], eps=1e-8)\n",
    "            self.attention_layernorms.append(new_attn_layernorm)\n",
    "            new_attn_layer =  nn.MultiheadAttention(\n",
    "                config['hidden_units'],config['num_heads'],config['dropout_rate']\n",
    "            )\n",
    "            self.attention_layers.append(new_attn_layer)\n",
    "\n",
    "            new_fwd_layernorm = nn.LayerNorm(config['hidden_units'], eps=1e-8)\n",
    "            self.forward_layernorms.append(new_fwd_layernorm)\n",
    "\n",
    "            new_fwd_layer = PointWiseFeedForward(config['hidden_units'], config['dropout_rate'])\n",
    "            self.forward_layers.append(new_fwd_layer)\n",
    "\n",
    "        fix_torch_seed(config['manual_seed'])\n",
    "        self.initialize()\n",
    "\n",
    "\n",
    "    def initialize(self):\n",
    "        for name, param in self.named_parameters():\n",
    "            try:\n",
    "                torch.nn.init.xavier_uniform_(param.data)\n",
    "            except:\n",
    "                pass # just ignore those failed init layers\n",
    "\n",
    "\n",
    "    def log2feats(self, log_seqs):\n",
    "        device = log_seqs.device\n",
    "        seqs = self.item_emb(log_seqs)\n",
    "        seqs *= self.item_emb.embedding_dim ** 0.5\n",
    "        positions = np.tile(np.arange(log_seqs.shape[1]), [log_seqs.shape[0], 1])\n",
    "        seqs += self.pos_emb(torch.LongTensor(positions).to(device))\n",
    "        seqs = self.emb_dropout(seqs)\n",
    "\n",
    "        timeline_mask = log_seqs == self.pad_token\n",
    "        seqs *= ~timeline_mask.unsqueeze(-1) # broadcast in last dim\n",
    "\n",
    "        tl = seqs.shape[1] # time dim len for enforce causality\n",
    "        attention_mask = ~torch.tril(torch.full((tl, tl), True, device=device))\n",
    "\n",
    "        for i in range(len(self.attention_layers)):\n",
    "            seqs = torch.transpose(seqs, 0, 1)\n",
    "            Q = self.attention_layernorms[i](seqs)\n",
    "            mha_outputs, _ = self.attention_layers[i](\n",
    "                Q, seqs, seqs, attn_mask=attention_mask\n",
    "            )\n",
    "\n",
    "            seqs = Q + mha_outputs\n",
    "            seqs = torch.transpose(seqs, 0, 1)\n",
    "\n",
    "            seqs = self.forward_layernorms[i](seqs)\n",
    "            seqs = self.forward_layers[i](seqs)\n",
    "            seqs *=  ~timeline_mask.unsqueeze(-1)\n",
    "\n",
    "        log_feats = self.last_layernorm(seqs) # (U, T, C) -> (U, -1, C)\n",
    "\n",
    "        return log_feats\n",
    "\n",
    "    def forward(self, log_seqs, pos_seqs, neg_seqs):\n",
    "        log_feats = self.log2feats(log_seqs)\n",
    "        pos_embs = self.item_emb(pos_seqs)\n",
    "        neg_embs = self.item_emb(neg_seqs)\n",
    "\n",
    "        pos_logits = (log_feats * pos_embs).sum(dim=-1)\n",
    "        neg_logits = (log_feats * neg_embs).sum(dim=-1)\n",
    "\n",
    "        return pos_logits, neg_logits\n",
    "\n",
    "\n",
    "    def score(self, seq):\n",
    "        '''\n",
    "        Takes 1d sequence as input and returns prediction scores.\n",
    "        '''\n",
    "        maxlen = self.pos_emb.num_embeddings\n",
    "        log_seqs = torch.full([maxlen], self.pad_token, dtype=torch.int64, device=seq.device)\n",
    "        log_seqs[-len(seq):] = seq[-maxlen:]\n",
    "        log_feats = self.log2feats(log_seqs.unsqueeze(0))\n",
    "        final_feat = log_feats[:, -1, :] # only use last QKV classifier\n",
    "\n",
    "        item_embs = self.item_emb.weight\n",
    "        logits = item_embs.matmul(final_feat.unsqueeze(-1)).squeeze(-1)\n",
    "        return logits"
   ]
  },
  {
   "attachments": {},
   "cell_type": "markdown",
   "metadata": {},
   "source": [
    "## Training "
   ]
  },
  {
   "cell_type": "code",
   "execution_count": 112,
   "metadata": {},
   "outputs": [],
   "source": [
    "def data_to_sequences(data, data_description):\n",
    "    userid = data_description['users']\n",
    "    itemid = data_description['items']\n",
    "    sequences = (\n",
    "        data.sort_values([userid, data_description['order']])\n",
    "        .groupby(userid, sort=False)[itemid].apply(list)\n",
    "    )\n",
    "    return sequences"
   ]
  },
  {
   "cell_type": "code",
   "execution_count": 113,
   "metadata": {},
   "outputs": [],
   "source": [
    "def prepare_sasrec_model(config, data, data_description):\n",
    "    n_users = data_description['n_users']\n",
    "    n_items = data_description['n_items']\n",
    "    model = SASRec(n_items, config)\n",
    "    criterion = torch.nn.BCEWithLogitsLoss()\n",
    "    if torch.cuda.is_available():\n",
    "        model = model.cuda()\n",
    "        criterion = criterion.cuda()\n",
    "\n",
    "    train_sequences = data_to_sequences(data, data_description)\n",
    "    sampler = sequential_batch_sampler(\n",
    "        train_sequences, n_users, n_items,\n",
    "        batch_size = config['batch_size'],\n",
    "        maxlen = config['maxlen'],\n",
    "        seed = config['sampler_seed'],\n",
    "        pad_token = model.pad_token\n",
    "    )\n",
    "    n_batches = len(train_sequences) // config['batch_size']\n",
    "    optimizer = torch.optim.Adam(\n",
    "        model.parameters(),\n",
    "        lr = config['learning_rate'],\n",
    "        betas = (0.9, 0.98)\n",
    "    )\n",
    "    return model, sampler, n_batches, criterion, optimizer"
   ]
  },
  {
   "cell_type": "code",
   "execution_count": 114,
   "metadata": {},
   "outputs": [],
   "source": [
    "def train_sasrec_epoch(model, num_batch, l2_emb, sampler, optimizer, criterion, device):\n",
    "    model.train()\n",
    "    pad_token = model.pad_token\n",
    "    losses = []\n",
    "    for _ in range(num_batch):\n",
    "        _, *seq_data = next(sampler)\n",
    "        # convert batch data into torch tensors\n",
    "        seq, pos, neg = (torch.LongTensor(np.array(x)).to(device) for x in seq_data)\n",
    "        pos_logits, neg_logits = model(seq, pos, neg)\n",
    "        pos_labels = torch.ones(pos_logits.shape, device=device)\n",
    "        neg_labels = torch.zeros(neg_logits.shape, device=device)\n",
    "        optimizer.zero_grad()\n",
    "        indices = torch.where(pos != pad_token)\n",
    "        loss = criterion(pos_logits[indices], pos_labels[indices])\n",
    "        loss += criterion(neg_logits[indices], neg_labels[indices])\n",
    "        if l2_emb != 0:\n",
    "            for param in model.item_emb.parameters():\n",
    "                loss += l2_emb * torch.norm(param)**2\n",
    "        loss.backward()\n",
    "        optimizer.step()\n",
    "        losses.append(loss.item())\n",
    "    return losses"
   ]
  },
  {
   "cell_type": "code",
   "execution_count": 115,
   "metadata": {},
   "outputs": [],
   "source": [
    "def build_sasrec_model(config, data, data_description):\n",
    "    '''Simple MF training routine without early stopping'''\n",
    "    model, sampler, n_batches, criterion, optimizer = prepare_sasrec_model(config, data, data_description)\n",
    "    device = 'cpu'\n",
    "    if torch.cuda.is_available():\n",
    "        device = torch.device(f'cuda:{torch.cuda.current_device()}')\n",
    "    losses = {}\n",
    "    for epoch in tqdm(range(config['num_epochs'])):\n",
    "        losses[epoch] = train_sasrec_epoch(\n",
    "            model, n_batches, config['l2_emb'], sampler, optimizer, criterion, device\n",
    "        )\n",
    "    return model, losses"
   ]
  },
  {
   "cell_type": "code",
   "execution_count": 116,
   "metadata": {},
   "outputs": [],
   "source": [
    "config = dict(\n",
    "    num_epochs = 20,\n",
    "    maxlen = 200,\n",
    "    hidden_units = 64,\n",
    "    dropout_rate = 0.4,\n",
    "    num_blocks = 1,\n",
    "    num_heads = 1,\n",
    "    batch_size = 64,\n",
    "    sampler_seed = 99,\n",
    "    manual_seed = 111,\n",
    "    learning_rate = 1e-3,\n",
    "    l2_emb = 0,\n",
    ")"
   ]
  },
  {
   "cell_type": "code",
   "execution_count": 117,
   "metadata": {},
   "outputs": [
    {
     "name": "stderr",
     "output_type": "stream",
     "text": [
      "100%|██████████| 20/20 [02:03<00:00,  6.18s/it]\n"
     ]
    }
   ],
   "source": [
    "model, losses = build_sasrec_model(config, training, data_description)"
   ]
  },
  {
   "cell_type": "code",
   "execution_count": 118,
   "metadata": {},
   "outputs": [
    {
     "data": {
      "image/png": "[encoded data removed]",
      "text/plain": [
       "<Figure size 432x288 with 1 Axes>"
      ]
     },
     "metadata": {
      "needs_background": "light"
     },
     "output_type": "display_data"
    }
   ],
   "source": [
    "pd.Series(losses).apply(np.mean).plot(title='Evolution of SASRec loss', xlabel='Epoch', ylabel='Loss');"
   ]
  },
  {
   "cell_type": "code",
   "execution_count": 119,
   "metadata": {},
   "outputs": [
    {
     "data": {
      "image/png": "[encoded data removed]",
      "text/plain": [
       "<Figure size 432x288 with 1 Axes>"
      ]
     },
     "metadata": {
      "needs_background": "light"
     },
     "output_type": "display_data"
    }
   ],
   "source": [
    "epoch = 0\n",
    "epoch_loss_series = pd.Series(losses[epoch], name='Loss').rename_axis('batch')\n",
    "ax = epoch_loss_series.reset_index().plot.scatter(\n",
    "    x='batch', y='Loss', title=f'Batch loss at epoch {epoch} '\n",
    ")"
   ]
  },
  {
   "attachments": {},
   "cell_type": "markdown",
   "metadata": {},
   "source": [
    "# Evaluation"
   ]
  },
  {
   "cell_type": "code",
   "execution_count": 120,
   "metadata": {},
   "outputs": [],
   "source": [
    "def sasrec_model_scoring(params, data, data_description):\n",
    "    model = params\n",
    "    model.eval()\n",
    "    tensor = torch.cuda.LongTensor if torch.cuda.is_available() else torch.LongTensor\n",
    "    test_sequences = data_to_sequences(data, data_description)\n",
    "    # perform scoring on a user-batch level\n",
    "    scores = []\n",
    "    for _, seq in test_sequences.items():\n",
    "        with torch.no_grad():\n",
    "            predictions = model.score(tensor(seq))\n",
    "        scores.append(predictions.detach().cpu().numpy())\n",
    "    return np.concatenate(scores, axis=0)"
   ]
  },
  {
   "cell_type": "code",
   "execution_count": 121,
   "metadata": {},
   "outputs": [],
   "source": [
    "sasrec_scores = sasrec_model_scoring(model, testset_valid, data_description)"
   ]
  },
  {
   "cell_type": "code",
   "execution_count": 122,
   "metadata": {},
   "outputs": [],
   "source": [
    "downvote_seen_items(sasrec_scores, testset_valid, data_description)"
   ]
  },
  {
   "cell_type": "code",
   "execution_count": 123,
   "metadata": {},
   "outputs": [
    {
     "data": {
      "text/plain": [
       "(0.076, 0.029858201058201052, 0.261500547645126)"
      ]
     },
     "execution_count": 123,
     "metadata": {},
     "output_type": "execute_result"
    }
   ],
   "source": [
    "sasrec_recs = topn_recommendations(sasrec_scores, topn=10)\n",
    "model_evaluate(sasrec_recs, holdout_valid, data_description)"
   ]
  },
  {
   "attachments": {},
   "cell_type": "markdown",
   "metadata": {},
   "source": [
    "# Baseline check"
   ]
  },
  {
   "attachments": {},
   "cell_type": "markdown",
   "metadata": {},
   "source": [
    "## PureSVD"
   ]
  },
  {
   "cell_type": "code",
   "execution_count": 124,
   "metadata": {},
   "outputs": [],
   "source": [
    "from scipy.sparse.linalg import svds"
   ]
  },
  {
   "cell_type": "code",
   "execution_count": 125,
   "metadata": {},
   "outputs": [],
   "source": [
    "def build_svd_model(config, data, data_description):\n",
    "    source_matrix = matrix_from_data(data, data_description)\n",
    "    _, s, vt = svds(source_matrix, k=config['rank'], return_singular_vectors='vh')\n",
    "    singular_values = s[::-1]\n",
    "    item_factors = np.ascontiguousarray(vt[::-1, :].T)\n",
    "    return item_factors, singular_values"
   ]
  },
  {
   "cell_type": "code",
   "execution_count": 126,
   "metadata": {},
   "outputs": [],
   "source": [
    "def svd_model_scoring(params, data, data_description):\n",
    "    item_factors, sigma = params\n",
    "    n_test_users = data[data_description['users']].nunique()\n",
    "    test_matrix = matrix_from_data(data, {**data_description, **{'n_users': n_test_users}})\n",
    "    scores = test_matrix.dot(item_factors) @ item_factors.T\n",
    "    return scores"
   ]
  },
  {
   "cell_type": "code",
   "execution_count": 127,
   "metadata": {},
   "outputs": [],
   "source": [
    "def evaluate_svd(params):\n",
    "    scores = svd_model_scoring(params, testset_valid, data_description)\n",
    "    downvote_seen_items(scores, testset_valid, data_description)\n",
    "    recs = topn_recommendations(scores, topn=10)\n",
    "    return model_evaluate(recs, holdout_valid, data_description)"
   ]
  },
  {
   "cell_type": "code",
   "execution_count": 128,
   "metadata": {},
   "outputs": [
    {
     "name": "stderr",
     "output_type": "stream",
     "text": [
      "100%|██████████| 14/14 [00:02<00:00,  6.15it/s]\n"
     ]
    }
   ],
   "source": [
    "svd_tuning_ranks = [b*2**i for i in range(3, 10) for b in [2, 3]]\n",
    "svd_params = build_svd_model(\n",
    "    {'rank': max(svd_tuning_ranks)},\n",
    "    training,\n",
    "    data_description\n",
    ")\n",
    "svd_tuning = {}\n",
    "for rank in tqdm(svd_tuning_ranks):\n",
    "    # standard model\n",
    "    item_factors, singvals = svd_params\n",
    "    rank_params = item_factors[:, :rank], singvals[:rank]\n",
    "    svd_tuning[rank] = evaluate_svd(rank_params)"
   ]
  },
  {
   "cell_type": "code",
   "execution_count": 129,
   "metadata": {},
   "outputs": [],
   "source": [
    "svd_results = (\n",
    "    pd.Series(svd_tuning)\n",
    "    .apply(pd.Series)\n",
    "    .rename(columns = ['HR', 'MRR', 'COV'].__getitem__)\n",
    ")"
   ]
  },
  {
   "cell_type": "code",
   "execution_count": 130,
   "metadata": {},
   "outputs": [
    {
     "data": {
      "image/png": "[encoded data removed]",
      "text/plain": [
       "<Figure size 432x288 with 2 Axes>"
      ]
     },
     "metadata": {
      "needs_background": "light"
     },
     "output_type": "display_data"
    }
   ],
   "source": [
    "svd_results['HR'].plot(label='HR', legend=True, ylabel='Metric', xlabel='rank')\n",
    "svd_results['MRR'].plot(secondary_y=True, label='MRR', legend=True);"
   ]
  },
  {
   "cell_type": "code",
   "execution_count": 131,
   "metadata": {},
   "outputs": [
    {
     "data": {
      "text/plain": [
       "HR     0.061333\n",
       "MRR    0.024683\n",
       "COV    0.256298\n",
       "Name: 256, dtype: float64"
      ]
     },
     "execution_count": 131,
     "metadata": {},
     "output_type": "execute_result"
    }
   ],
   "source": [
    "svd_results.loc[svd_results['HR'].idxmax()]"
   ]
  },
  {
   "cell_type": "code",
   "execution_count": null,
   "metadata": {},
   "outputs": [],
   "source": []
  }
 ],
 "metadata": {
  "interpreter": {
   "hash": "e587e8b75394de48c2e2a47def3a5e72a23054844b7abdff48af37dc7e76636d"
  },
  "kernelspec": {
   "display_name": "Python 3.9.10 ('torch')",
   "language": "python",
   "name": "python3"
  },
  "language_info": {
   "codemirror_mode": {
    "name": "ipython",
    "version": 3
   },
   "file_extension": ".py",
   "mimetype": "text/x-python",
   "name": "python",
   "nbconvert_exporter": "python",
   "pygments_lexer": "ipython3",
   "version": "3.9.10"
  },
  "orig_nbformat": 4
 },
 "nbformat": 4,
 "nbformat_minor": 2
}
