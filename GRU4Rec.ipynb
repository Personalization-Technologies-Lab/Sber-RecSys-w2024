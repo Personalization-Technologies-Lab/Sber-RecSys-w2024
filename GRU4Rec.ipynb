{
 "cells": [
  {
   "attachments": {},
   "cell_type": "markdown",
   "metadata": {},
   "source": [
    "# Setting up Colab environment"
   ]
  },
  {
   "cell_type": "code",
   "execution_count": null,
   "metadata": {},
   "outputs": [],
   "source": [
    "import os\n",
    "username = 'Personalization-Technologies-Lab'\n",
    "repo = 'Sber-RecSys-w2024'\n",
    "\n",
    "# remove local directory if it already exists\n",
    "if os.path.isdir(repo):\n",
    "    !rm -rf {repo}\n",
    "\n",
    "!git clone https://github.com/{username}/{repo}.git"
   ]
  },
  {
   "cell_type": "code",
   "execution_count": null,
   "metadata": {},
   "outputs": [],
   "source": [
    "!pip install --no-cache-dir --upgrade git+https://github.com/evfro/polara.git@develop#egg=polara"
   ]
  },
  {
   "cell_type": "code",
   "execution_count": null,
   "metadata": {},
   "outputs": [],
   "source": [
    "import pandas as pd\n",
    "import numpy as np\n",
    "from tqdm.auto import tqdm\n",
    "\n",
    "import torch\n",
    "import torch.nn as nn\n",
    "from torch.nn.utils.rnn import pack_padded_sequence\n",
    "from torch.utils.data import Dataset, DataLoader\n",
    "\n",
    "from polara import get_movielens_data\n",
    "from polara.preprocessing.dataframes import reindex, leave_one_out\n",
    "\n",
    "# navigating to cloned repo directory in Colab\n",
    "%cd {repo}\n",
    "from dataprep import transform_indices\n",
    "%cd -"
   ]
  },
  {
   "attachments": {},
   "cell_type": "markdown",
   "metadata": {},
   "source": [
    "# Preparing data"
   ]
  },
  {
   "cell_type": "code",
   "execution_count": 2,
   "metadata": {},
   "outputs": [],
   "source": [
    "mldata = get_movielens_data(include_time=True)"
   ]
  },
  {
   "cell_type": "code",
   "execution_count": 3,
   "metadata": {},
   "outputs": [],
   "source": [
    "test_timepoint = mldata['timestamp'].quantile(\n",
    "    q=0.95, interpolation='nearest'\n",
    ")"
   ]
  },
  {
   "cell_type": "code",
   "execution_count": 4,
   "metadata": {},
   "outputs": [],
   "source": [
    "test_data_ = mldata.query('timestamp >= @test_timepoint')"
   ]
  },
  {
   "cell_type": "code",
   "execution_count": 5,
   "metadata": {},
   "outputs": [
    {
     "data": {
      "text/plain": [
       "userid         813\n",
       "movieid       3249\n",
       "rating           5\n",
       "timestamp    33729\n",
       "dtype: int64"
      ]
     },
     "execution_count": 5,
     "metadata": {},
     "output_type": "execute_result"
    }
   ],
   "source": [
    "test_data_.nunique()"
   ]
  },
  {
   "cell_type": "code",
   "execution_count": 6,
   "metadata": {},
   "outputs": [],
   "source": [
    "train_data_ = mldata.query(\n",
    "    'userid not in @test_data_.userid.unique() and timestamp < @test_timepoint'\n",
    ")"
   ]
  },
  {
   "cell_type": "code",
   "execution_count": 7,
   "metadata": {},
   "outputs": [],
   "source": [
    "training, data_index = transform_indices(train_data_.copy(), 'userid', 'movieid')"
   ]
  },
  {
   "cell_type": "code",
   "execution_count": 8,
   "metadata": {},
   "outputs": [
    {
     "name": "stdout",
     "output_type": "stream",
     "text": [
      "Filtered 64 invalid observations.\n"
     ]
    }
   ],
   "source": [
    "test_data = reindex(test_data_, data_index['items'])"
   ]
  },
  {
   "cell_type": "code",
   "execution_count": 9,
   "metadata": {},
   "outputs": [
    {
     "data": {
      "text/plain": [
       "userid         813\n",
       "movieid       3220\n",
       "rating           5\n",
       "timestamp    33678\n",
       "dtype: int64"
      ]
     },
     "execution_count": 9,
     "metadata": {},
     "output_type": "execute_result"
    }
   ],
   "source": [
    "test_data.nunique()"
   ]
  },
  {
   "attachments": {},
   "cell_type": "markdown",
   "metadata": {},
   "source": [
    "We sample the last item for each test user.  \n",
    "As all these users are excluded from the training, and training is additionally filtered by timestamp,\n",
    "there will be no \"recommendation from future\" issue - our model is unaware of future correlations.\n"
   ]
  },
  {
   "cell_type": "code",
   "execution_count": 10,
   "metadata": {},
   "outputs": [],
   "source": [
    "testset_, holdout_ = leave_one_out(\n",
    "    test_data, target='timestamp', sample_top=True, random_state=0\n",
    ")\n",
    "testset_valid_, holdout_valid_ = leave_one_out(\n",
    "    testset_, target='timestamp', sample_top=True, random_state=0\n",
    ")"
   ]
  },
  {
   "attachments": {},
   "cell_type": "markdown",
   "metadata": {},
   "source": [
    "Let's focus on validation part."
   ]
  },
  {
   "cell_type": "code",
   "execution_count": 11,
   "metadata": {},
   "outputs": [],
   "source": [
    "userid = data_index['users'].name\n",
    "test_users = pd.Index(\n",
    "    np.intersect1d(\n",
    "        testset_valid_[userid].unique(),\n",
    "        holdout_valid_[userid].unique()\n",
    "    )\n",
    ")\n",
    "testset_valid = (\n",
    "    testset_valid_\n",
    "    # reindex warm-start users for convenience\n",
    "    .assign(**{userid: lambda x: test_users.get_indexer(x[userid])})\n",
    "    .query(f'{userid} >= 0')\n",
    "    .sort_values('userid')\n",
    ")\n",
    "holdout_valid = (\n",
    "    holdout_valid_\n",
    "    # reindex warm-start users for convenience\n",
    "    .assign(**{userid: lambda x: test_users.get_indexer(x[userid])})\n",
    "    .query(f'{userid} >= 0')\n",
    "    .sort_values('userid')\n",
    ")"
   ]
  },
  {
   "cell_type": "code",
   "execution_count": 12,
   "metadata": {},
   "outputs": [
    {
     "data": {
      "text/plain": [
       "userid         750\n",
       "movieid       3202\n",
       "rating           5\n",
       "timestamp    32400\n",
       "dtype: int64"
      ]
     },
     "execution_count": 12,
     "metadata": {},
     "output_type": "execute_result"
    }
   ],
   "source": [
    "testset_valid.nunique()"
   ]
  },
  {
   "cell_type": "code",
   "execution_count": 13,
   "metadata": {},
   "outputs": [
    {
     "data": {
      "text/plain": [
       "(750, 4)"
      ]
     },
     "execution_count": 13,
     "metadata": {},
     "output_type": "execute_result"
    }
   ],
   "source": [
    "holdout_valid.shape"
   ]
  },
  {
   "cell_type": "code",
   "execution_count": 14,
   "metadata": {},
   "outputs": [],
   "source": [
    "assert holdout_valid.set_index('userid')['timestamp'].ge(\n",
    "    testset_valid\n",
    "    .groupby('userid')\n",
    "    ['timestamp'].max()\n",
    ").all()"
   ]
  },
  {
   "cell_type": "code",
   "execution_count": 15,
   "metadata": {},
   "outputs": [],
   "source": [
    "train_sessions = (\n",
    "    training\n",
    "    .sort_values(['userid', 'timestamp'])\n",
    "    .groupby('userid')\n",
    "    ['movieid']\n",
    "    .apply(list)\n",
    ")"
   ]
  },
  {
   "cell_type": "code",
   "execution_count": 16,
   "metadata": {},
   "outputs": [
    {
     "name": "stdout",
     "output_type": "stream",
     "text": [
      "[1088, 1100, 1107, 2472, 1181, 2693, 1115, 1084, 308, 2774, 2610, 1103, 1734, 1097, 573, 2836, 3186, 1663, 498, 1000, 2271, 2779, 106, 1854, 2888, 1135, 2846, 1239, 1086, 1746, 1742, 841, 1627, 994, 1751, 3189, 3362, 3442, 1147, 1743, 1591, 2483, 1757, 1013, 823, 3171, 3291, 2604, 3060, 2810, 257, 2084, 570, 1141, 2813, 1132, 3407, 1744, 1133, 2011, 3386, 902, 1981, 2043, 1314, 2986, 619, 227, 1006, 1029, 481, 1134, 3593, 1390, 1079, 2167, 2130, 2092, 345, 2849, 1153, 3513, 569, 1817, 2336, 440, 2666, 1453, 463, 156, 369, 3138, 2987, 1284, 20, 338, 1382, 2124, 1795, 2051, 1249, 620, 2198, 1596, 1251, 1403, 2260, 1264, 723, 2633, 2848, 357, 1603, 158, 442, 425, 1441, 2386, 1526, 2988, 690, 1791, 1913, 282, 92, 1523, 417, 1396, 1707]\n"
     ]
    }
   ],
   "source": [
    "print(train_sessions[1])"
   ]
  },
  {
   "cell_type": "code",
   "execution_count": 17,
   "metadata": {},
   "outputs": [],
   "source": [
    "valid_sessions = (\n",
    "    testset_valid\n",
    "    .sort_values(['userid', 'timestamp'])\n",
    "    .groupby('userid')\n",
    "    ['movieid']\n",
    "    .apply(list)\n",
    "    .combine(\n",
    "        holdout_valid\n",
    "        .groupby('userid')\n",
    "        ['movieid']\n",
    "        .apply(list),\n",
    "        lambda x,y: x+y\n",
    "    )\n",
    ")"
   ]
  },
  {
   "cell_type": "code",
   "execution_count": 18,
   "metadata": {},
   "outputs": [],
   "source": [
    "# check that holdout item is at the last position\n",
    "assert (valid_sessions.str[-1] == holdout_valid.set_index('userid').movieid).all()"
   ]
  },
  {
   "attachments": {},
   "cell_type": "markdown",
   "metadata": {},
   "source": [
    "# Data loader"
   ]
  },
  {
   "cell_type": "code",
   "execution_count": 65,
   "metadata": {},
   "outputs": [],
   "source": [
    "class GRUDataset(Dataset):\n",
    "    def __init__(self, session_data, max_length, pad_token, mode='train'):\n",
    "        self.max_length = max_length\n",
    "        self.pad_token = pad_token\n",
    "        self.mode = mode\n",
    "        self.session_data = self.process_sessions(session_data)\n",
    "        self.all_sessions = sorted(self.session_data.keys())\n",
    "\n",
    "    def process_sessions(self, session_data):\n",
    "        sessions = (\n",
    "            session_data\n",
    "            # do not allow sequences with a single item\n",
    "            .loc[lambda x: x.apply(len)>1]\n",
    "            .reset_index(drop=True)\n",
    "            # take only the most recent items if sequence is too long\n",
    "            .str[-self.max_length:]\n",
    "        )\n",
    "        return sessions\n",
    "\n",
    "    def __len__(self):\n",
    "        return len(self.all_sessions)\n",
    "\n",
    "    def __getitem__(self, index):\n",
    "        session_id = self.all_sessions[index]\n",
    "        session = self.session_data[session_id]\n",
    "\n",
    "        # create fixed-length representation of session\n",
    "        seen_items = np.full(self.max_length, self.pad_token)\n",
    "        n_seen_items = len(session) - 1\n",
    "        seen_items[:n_seen_items] = session[:-1]\n",
    "\n",
    "        if self.mode == 'train':\n",
    "            next_items = np.full(self.max_length, self.pad_token)\n",
    "            next_items[:n_seen_items] = session[1:]\n",
    "        if self.mode == 'eval':\n",
    "            next_items = session[-1:]\n",
    "\n",
    "        return (\n",
    "            torch.cuda.LongTensor(seen_items),\n",
    "            torch.cuda.LongTensor(next_items),\n",
    "            n_seen_items,\n",
    "            session_id\n",
    "        )"
   ]
  },
  {
   "cell_type": "code",
   "execution_count": 66,
   "metadata": {},
   "outputs": [],
   "source": [
    "max_length = 200\n",
    "pad_token = len(data_index['items'])\n",
    "train_dataset = GRUDataset(train_sessions, max_length, pad_token, mode='train')"
   ]
  },
  {
   "cell_type": "code",
   "execution_count": 67,
   "metadata": {},
   "outputs": [],
   "source": [
    "train_dl = DataLoader(train_dataset, batch_size=128, shuffle=True, drop_last=False)"
   ]
  },
  {
   "cell_type": "code",
   "execution_count": 78,
   "metadata": {},
   "outputs": [],
   "source": [
    "class GRU4Rec(nn.Module):\n",
    "    def __init__(self, embedding_dim, hidden_dim, output_dim, pad_token):\n",
    "        super().__init__()\n",
    "        self.embedding_dim = embedding_dim\n",
    "        self.hidden_dim = hidden_dim\n",
    "        self.output_dim = output_dim\n",
    "        self.pad_token = pad_token\n",
    "        self._batch_first = True\n",
    "\n",
    "        self.item_embedding = nn.Embedding(output_dim+1, embedding_dim, padding_idx=pad_token)\n",
    "        self.gru_layer = nn.GRU(embedding_dim, self.hidden_dim, batch_first=self._batch_first)\n",
    "        self.output_layer = nn.Linear(hidden_dim, output_dim+1)\n",
    "\n",
    "    def forward(self, seen_items, session_length):\n",
    "        # embedding layer\n",
    "        item_embedding = self.item_embedding(seen_items)\n",
    "        item_embedding_packed = pack_padded_sequence(\n",
    "            item_embedding,\n",
    "            session_length,\n",
    "            batch_first = self._batch_first,\n",
    "            enforce_sorted = False\n",
    "        ).cuda()\n",
    "        # GRU layer\n",
    "        # default starting hidden state is all 0 - works for our case!\n",
    "        states_packed, final_state = self.gru_layer(item_embedding_packed)\n",
    "\n",
    "        # output layer\n",
    "        if self.training: # sequential next item prediction\n",
    "            outputs = self.output_layer(states_packed.data)\n",
    "        else: # session continuation with next item\n",
    "            outputs = self.output_layer(final_state)\n",
    "        return outputs"
   ]
  },
  {
   "cell_type": "code",
   "execution_count": 79,
   "metadata": {},
   "outputs": [],
   "source": [
    "model = GRU4Rec(\n",
    "    64, 16, len(data_index['items']), train_dataset.pad_token\n",
    ").cuda()"
   ]
  },
  {
   "cell_type": "code",
   "execution_count": 80,
   "metadata": {},
   "outputs": [],
   "source": [
    "criterion = torch.nn.CrossEntropyLoss().cuda()\n",
    "\n",
    "optimizer = torch.optim.Adam(\n",
    "    model.parameters(),\n",
    "    lr = 1e-3\n",
    ")"
   ]
  },
  {
   "cell_type": "code",
   "execution_count": 81,
   "metadata": {},
   "outputs": [],
   "source": [
    "def train(loader, model, optimizer, criterion):\n",
    "    model.train()\n",
    "    losses = []\n",
    "\n",
    "    for batch, targets, sizes, sessid in loader:\n",
    "        sizes = sizes.squeeze()\n",
    "        optimizer.zero_grad()\n",
    "        loss = criterion(model(batch, sizes), pack_targets(targets, sizes))\n",
    "        loss.backward()\n",
    "        optimizer.step()\n",
    "        losses.append(loss.detach().cpu().item())\n",
    "\n",
    "    return losses\n",
    "\n",
    "def pack_targets(targets, sizes):\n",
    "    packed = pack_padded_sequence(\n",
    "            targets,\n",
    "            sizes,\n",
    "            batch_first = True,\n",
    "            enforce_sorted = False\n",
    "        ).cuda()\n",
    "    return packed.data"
   ]
  },
  {
   "cell_type": "code",
   "execution_count": 82,
   "metadata": {},
   "outputs": [
    {
     "name": "stderr",
     "output_type": "stream",
     "text": [
      "100%|██████████| 100/100 [05:56<00:00,  3.57s/it]\n"
     ]
    }
   ],
   "source": [
    "losses = []\n",
    "for epoch in tqdm(range(100)):\n",
    "    losses.extend(train(train_dl, model, optimizer, criterion))"
   ]
  },
  {
   "cell_type": "code",
   "execution_count": 83,
   "metadata": {},
   "outputs": [
    {
     "data": {
      "text/plain": [
       "<AxesSubplot:>"
      ]
     },
     "execution_count": 83,
     "metadata": {},
     "output_type": "execute_result"
    },
    {
     "data": {
      "image/png": "[encoded data removed]",
      "text/plain": [
       "<Figure size 432x288 with 1 Axes>"
      ]
     },
     "metadata": {
      "needs_background": "light"
     },
     "output_type": "display_data"
    }
   ],
   "source": [
    "pd.Series(losses).plot()"
   ]
  },
  {
   "attachments": {},
   "cell_type": "markdown",
   "metadata": {},
   "source": [
    "## Validation"
   ]
  },
  {
   "cell_type": "code",
   "execution_count": 84,
   "metadata": {},
   "outputs": [],
   "source": [
    "valid_dataset = GRUDataset(valid_sessions, max_length, pad_token, mode='eval')\n",
    "valid_dl = DataLoader(valid_dataset, batch_size=128, shuffle=False, drop_last=False)"
   ]
  },
  {
   "cell_type": "code",
   "execution_count": 85,
   "metadata": {},
   "outputs": [],
   "source": [
    "hits = []\n",
    "model.eval()\n",
    "with torch.no_grad():\n",
    "    for batch, targets, sizes, sessid in valid_dl:\n",
    "        sizes = sizes.squeeze()\n",
    "        outputs = model(batch, sizes).squeeze()\n",
    "        _, inds = torch.topk(outputs, 10)\n",
    "        _, hits_index = torch.where(inds == targets)\n",
    "        if len(hits_index):\n",
    "            hits.append(hits_index)"
   ]
  },
  {
   "cell_type": "code",
   "execution_count": 86,
   "metadata": {},
   "outputs": [
    {
     "name": "stdout",
     "output_type": "stream",
     "text": [
      "HR=0.0653\n"
     ]
    }
   ],
   "source": [
    "print(f'HR={torch.concat(hits).size(0) / len(valid_dl.dataset):.4f}')"
   ]
  },
  {
   "cell_type": "code",
   "execution_count": 87,
   "metadata": {},
   "outputs": [
    {
     "name": "stdout",
     "output_type": "stream",
     "text": [
      "MRR=0.0191\n"
     ]
    }
   ],
   "source": [
    "print(f'MRR={sum([1./(r+1).item() for h in hits for r in h]) / len(valid_dl.dataset):.4f}')"
   ]
  },
  {
   "cell_type": "code",
   "execution_count": null,
   "metadata": {},
   "outputs": [],
   "source": []
  }
 ],
 "metadata": {
  "interpreter": {
   "hash": "e587e8b75394de48c2e2a47def3a5e72a23054844b7abdff48af37dc7e76636d"
  },
  "kernelspec": {
   "display_name": "Python 3.9.10 ('torch')",
   "language": "python",
   "name": "python3"
  },
  "language_info": {
   "codemirror_mode": {
    "name": "ipython",
    "version": 3
   },
   "file_extension": ".py",
   "mimetype": "text/x-python",
   "name": "python",
   "nbconvert_exporter": "python",
   "pygments_lexer": "ipython3",
   "version": "3.9.10"
  },
  "orig_nbformat": 4
 },
 "nbformat": 4,
 "nbformat_minor": 2
}
