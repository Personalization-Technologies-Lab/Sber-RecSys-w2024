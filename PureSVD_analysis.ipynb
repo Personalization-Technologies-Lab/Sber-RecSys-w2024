{
 "cells": [
  {
   "attachments": {},
   "cell_type": "markdown",
   "metadata": {},
   "source": [
    "# Setting up Colab environment"
   ]
  },
  {
   "cell_type": "code",
   "execution_count": null,
   "metadata": {},
   "outputs": [],
   "source": [
    "import os\n",
    "username = 'Personalization-Technologies-Lab'\n",
    "repo = 'Sber-RecSys-w2024'\n",
    "\n",
    "# remove local directory if it already exists\n",
    "if os.path.isdir(repo):\n",
    "    !rm -rf {repo}\n",
    "\n",
    "!git clone https://github.com/{username}/{repo}.git"
   ]
  },
  {
   "cell_type": "code",
   "execution_count": null,
   "metadata": {},
   "outputs": [],
   "source": [
    "!pip install --no-cache-dir --upgrade git+https://github.com/evfro/polara.git@develop#egg=polara"
   ]
  },
  {
   "cell_type": "code",
   "execution_count": null,
   "metadata": {},
   "outputs": [],
   "source": [
    "import numpy as np\n",
    "import pandas as pd\n",
    "from scipy.sparse import csr_matrix\n",
    "from scipy.sparse.linalg import svds, LinearOperator\n",
    "from tqdm.auto import tqdm\n",
    "\n",
    "from polara import get_movielens_data\n",
    "from polara.preprocessing.dataframes import leave_one_out, reindex\n",
    "\n",
    "# navigating to cloned repo directory in Colab\n",
    "%cd {repo}\n",
    "from dataprep import transform_indices\n",
    "from evaluation import topn_recommendations, model_evaluate, downvote_seen_items\n",
    "# restoring original location\n",
    "%cd -"
   ]
  },
  {
   "attachments": {},
   "cell_type": "markdown",
   "metadata": {},
   "source": [
    "# Preparing data"
   ]
  },
  {
   "cell_type": "code",
   "execution_count": 2,
   "metadata": {},
   "outputs": [],
   "source": [
    "data = get_movielens_data(include_time=True)"
   ]
  },
  {
   "cell_type": "code",
   "execution_count": 3,
   "metadata": {},
   "outputs": [],
   "source": [
    "training_, holdout_ = leave_one_out(data, target='timestamp', sample_top=True, random_state=0)\n",
    "\n",
    "assert holdout_.set_index('userid')['timestamp'].ge(\n",
    "    training_\n",
    "    .groupby('userid')\n",
    "    ['timestamp'].max()\n",
    ").all()"
   ]
  },
  {
   "cell_type": "code",
   "execution_count": 4,
   "metadata": {},
   "outputs": [
    {
     "name": "stdout",
     "output_type": "stream",
     "text": [
      "Filtered 2 invalid observations.\n"
     ]
    }
   ],
   "source": [
    "training, data_index = transform_indices(training_, 'userid', 'movieid')\n",
    "holdout = reindex(holdout_, data_index.values(), filter_invalid=True)\n",
    "holdout = holdout.sort_values('userid')"
   ]
  },
  {
   "cell_type": "code",
   "execution_count": 5,
   "metadata": {},
   "outputs": [],
   "source": [
    "data_description = dict(\n",
    "    users = data_index['users'].name,\n",
    "    items = data_index['items'].name,\n",
    "    feedback = 'rating',\n",
    "    n_users = len(data_index['users']),\n",
    "    n_items = len(data_index['items']),\n",
    ")"
   ]
  },
  {
   "attachments": {},
   "cell_type": "markdown",
   "metadata": {},
   "source": [
    "## PureSVD"
   ]
  },
  {
   "cell_type": "code",
   "execution_count": 6,
   "metadata": {},
   "outputs": [],
   "source": [
    "def matrix_from_observations(data, data_description):\n",
    "    useridx = data[data_description['users']]\n",
    "    itemidx = data[data_description['items']]\n",
    "    values = data[data_description['feedback']]\n",
    "    return csr_matrix((values, (useridx, itemidx)), dtype='f8')\n",
    "\n",
    "\n",
    "def build_svd_model(config, data, data_description):\n",
    "    source_matrix = matrix_from_observations(data, data_description)\n",
    "    _, s, vt = svds(source_matrix, k=config['rank'], return_singular_vectors='vh')\n",
    "    singular_values = s[::-1]\n",
    "    item_factors = np.ascontiguousarray(vt[::-1, :].T)\n",
    "    return item_factors, singular_values"
   ]
  },
  {
   "cell_type": "code",
   "execution_count": 7,
   "metadata": {},
   "outputs": [],
   "source": [
    "svd_config = {'rank': 200}\n",
    "\n",
    "V, sigma = svd_params = build_svd_model(svd_config, training, data_description)"
   ]
  },
  {
   "cell_type": "code",
   "execution_count": 8,
   "metadata": {},
   "outputs": [
    {
     "data": {
      "text/plain": [
       "(3704, 200)"
      ]
     },
     "execution_count": 8,
     "metadata": {},
     "output_type": "execute_result"
    }
   ],
   "source": [
    "V.shape"
   ]
  },
  {
   "cell_type": "code",
   "execution_count": 9,
   "metadata": {},
   "outputs": [],
   "source": [
    "# check orthogonality\n",
    "np.testing.assert_almost_equal(\n",
    "    V.T @ V,\n",
    "    np.eye(svd_config['rank']), decimal=14\n",
    ")"
   ]
  },
  {
   "cell_type": "code",
   "execution_count": 10,
   "metadata": {},
   "outputs": [
    {
     "data": {
      "image/png": "[encoded data removed]",
      "text/plain": [
       "<Figure size 432x288 with 1 Axes>"
      ]
     },
     "metadata": {
      "needs_background": "light"
     },
     "output_type": "display_data"
    }
   ],
   "source": [
    "pd.Series(sigma).plot(title='Top singular values', xlabel='rank');"
   ]
  },
  {
   "attachments": {},
   "cell_type": "markdown",
   "metadata": {},
   "source": [
    "## \"Shifted\" PureSVD"
   ]
  },
  {
   "cell_type": "code",
   "execution_count": 11,
   "metadata": {},
   "outputs": [],
   "source": [
    "def build_shifted_model(config, data, data_description):\n",
    "    source_matrix = matrix_from_observations(data, data_description)\n",
    "    average_rating = source_matrix.data.mean() # average over all non-zeros\n",
    "    centered_matrix = source_matrix._with_data(\n",
    "        source_matrix.data - average_rating\n",
    "    )\n",
    "\n",
    "    def shifted_mv(v):\n",
    "        return centered_matrix.dot(v) + average_rating * v.sum()\n",
    "\n",
    "    def shifted_rmv(v):\n",
    "        return centered_matrix.T.dot(v) + average_rating * v.sum()\n",
    "\n",
    "    shifted_matrix = LinearOperator(\n",
    "        source_matrix.shape,\n",
    "        shifted_mv,\n",
    "        shifted_rmv\n",
    "    )\n",
    "    _, s, vt = svds(shifted_matrix, k=config['rank'])\n",
    "    singular_values = s[::-1]\n",
    "    item_factors = np.ascontiguousarray(vt[::-1, :].T)\n",
    "    return item_factors, singular_values"
   ]
  },
  {
   "cell_type": "code",
   "execution_count": 12,
   "metadata": {},
   "outputs": [],
   "source": [
    "V_shift, sigma_shift = shifted_params = build_shifted_model(\n",
    "    svd_config,\n",
    "    training,\n",
    "    data_description\n",
    ")"
   ]
  },
  {
   "cell_type": "code",
   "execution_count": 13,
   "metadata": {},
   "outputs": [
    {
     "data": {
      "image/png": "[encoded data removed]",
      "text/plain": [
       "<Figure size 432x288 with 1 Axes>"
      ]
     },
     "metadata": {
      "needs_background": "light"
     },
     "output_type": "display_data"
    }
   ],
   "source": [
    "pd.Series(sigma).plot(\n",
    "    title='Top singular values',\n",
    "    xlabel='rank',\n",
    "    label='source',\n",
    "    legend=True,\n",
    "    logy=True\n",
    ")\n",
    "pd.Series(sigma_shift).plot(\n",
    "    legend=True,\n",
    "    label='shifted',\n",
    ");"
   ]
  },
  {
   "attachments": {},
   "cell_type": "markdown",
   "metadata": {},
   "source": [
    "Let's sompare top singular value against the theoretical estimation:"
   ]
  },
  {
   "cell_type": "code",
   "execution_count": 14,
   "metadata": {},
   "outputs": [
    {
     "name": "stdout",
     "output_type": "stream",
     "text": [
      "Estimated leading singular value = 16940.1\n",
      "Computed leading singular value = 16941.7\n"
     ]
    }
   ],
   "source": [
    "sv = training.rating.mean() * np.sqrt(data_description['n_users'] * data_description['n_items'])\n",
    "print(f'Estimated leading singular value = {sv:.1f}')\n",
    "print(f'Computed leading singular value = {sigma_shift.max():.1f}')"
   ]
  },
  {
   "attachments": {},
   "cell_type": "markdown",
   "metadata": {},
   "source": [
    "Very close!"
   ]
  },
  {
   "attachments": {},
   "cell_type": "markdown",
   "metadata": {},
   "source": [
    "Let's see how singular values accumulate from the end."
   ]
  },
  {
   "cell_type": "code",
   "execution_count": 15,
   "metadata": {},
   "outputs": [
    {
     "data": {
      "image/png": "[encoded data removed]",
      "text/plain": [
       "<Figure size 432x288 with 1 Axes>"
      ]
     },
     "metadata": {
      "needs_background": "light"
     },
     "output_type": "display_data"
    }
   ],
   "source": [
    "rev_sigma_idx = np.arange(svd_config['rank'], 0, -1)\n",
    "pd.Series(sigma[::-1]**2, index=rev_sigma_idx).cumsum().pow(0.5).plot(\n",
    "    title='',\n",
    "    xlabel='rank',\n",
    "    label='source',\n",
    "    legend=True,\n",
    "    logy=True\n",
    ")\n",
    "pd.Series(sigma_shift[::-1]**2, index=rev_sigma_idx).cumsum().pow(0.5).plot(\n",
    "    legend=True,\n",
    "    label='shifted',\n",
    ");"
   ]
  },
  {
   "attachments": {},
   "cell_type": "markdown",
   "metadata": {},
   "source": [
    "Let's stop here for a moment. What are possible conclusions from this graph:\n",
    "1. we reduced approximation error\n",
    "2. seems like we'll need lower rank value, as most of the variation is already explained by the first singular triplet.\n",
    "\n",
    "Let's scrutinize a bit over these two conclusions."
   ]
  },
  {
   "attachments": {},
   "cell_type": "markdown",
   "metadata": {},
   "source": [
    "Obviously, singular values indicate general reduction of error, which includes erros computed on unknown ratings. Let's check error only for known ratings."
   ]
  },
  {
   "cell_type": "code",
   "execution_count": 16,
   "metadata": {},
   "outputs": [],
   "source": [
    "def rmse(true_ratings, predicted):\n",
    "    return np.sqrt(np.power(true_ratings - predicted, 2).mean())\n",
    "\n",
    "def svd_predict(source_matrix, item_factors):\n",
    "    nnz_user, nnz_item = source_matrix.nonzero()\n",
    "    user_factors = source_matrix.dot(item_factors)\n",
    "    return (user_factors[nnz_user] * item_factors[nnz_item, :]).sum(axis=1)\n",
    "\n",
    "def compute_train_rmse(source_matrix, item_factors):\n",
    "    return rmse(\n",
    "        source_matrix.data,\n",
    "        svd_predict(source_matrix, item_factors)\n",
    "    )"
   ]
  },
  {
   "cell_type": "code",
   "execution_count": 17,
   "metadata": {},
   "outputs": [
    {
     "name": "stdout",
     "output_type": "stream",
     "text": [
      "svd_rmse=1.81\n"
     ]
    }
   ],
   "source": [
    "# PureSVD\n",
    "train_matrix = matrix_from_observations(training, data_description)\n",
    "svd_rmse = compute_train_rmse(train_matrix, V)\n",
    "print(f'svd_rmse={svd_rmse:.2f}')"
   ]
  },
  {
   "attachments": {},
   "cell_type": "markdown",
   "metadata": {},
   "source": [
    "How does it compare to a simple average-rating-prediction model?"
   ]
  },
  {
   "cell_type": "code",
   "execution_count": 18,
   "metadata": {},
   "outputs": [
    {
     "name": "stdout",
     "output_type": "stream",
     "text": [
      "RMSE of global average rating prediction model: 1.12\n"
     ]
    }
   ],
   "source": [
    "average_rating_prediction_error = np.sqrt(np.power(train_matrix.data - train_matrix.data.mean(), 2).mean())\n",
    "print(f'RMSE of global average rating prediction model: {average_rating_prediction_error:.2f}')"
   ]
  },
  {
   "attachments": {},
   "cell_type": "markdown",
   "metadata": {},
   "source": [
    "<font color=green>  \n",
    "\n",
    "* Which recommendation model (in terms of top-$n$ predictions task) does this average-rating-prediction approach correspond?\n",
    "\n",
    "</font>"
   ]
  },
  {
   "attachments": {},
   "cell_type": "markdown",
   "metadata": {},
   "source": [
    "Let's check the rating prediction error for the shifted model now."
   ]
  },
  {
   "cell_type": "code",
   "execution_count": 19,
   "metadata": {},
   "outputs": [],
   "source": [
    "def shifted_predict(source_matrix, item_factors):\n",
    "    nnz_user, nnz_item = source_matrix.nonzero()\n",
    "    average_rating = source_matrix.data.mean()\n",
    "    centered_matrix = source_matrix._with_data(\n",
    "        source_matrix.data - average_rating\n",
    "    )\n",
    "    user_factors = centered_matrix.dot(item_factors) + average_rating * item_factors.sum(axis=0)\n",
    "    return (user_factors[nnz_user] * item_factors[nnz_item, :]).sum(axis=1)\n",
    "\n",
    "def compute_train_rmse_shifted(source_matrix, item_factors):\n",
    "    return rmse(\n",
    "        source_matrix.data, shifted_predict(source_matrix, item_factors)\n",
    "    )"
   ]
  },
  {
   "cell_type": "code",
   "execution_count": 20,
   "metadata": {},
   "outputs": [
    {
     "name": "stdout",
     "output_type": "stream",
     "text": [
      "shifted_rmse=0.70\n"
     ]
    }
   ],
   "source": [
    "# Shifted PureSVD\n",
    "shifted_rmse = compute_train_rmse_shifted(train_matrix, V_shift)\n",
    "print(f'{shifted_rmse=:.2f}')"
   ]
  },
  {
   "attachments": {},
   "cell_type": "markdown",
   "metadata": {},
   "source": [
    "Indeed, an improvement is quite substantial."
   ]
  },
  {
   "attachments": {},
   "cell_type": "markdown",
   "metadata": {},
   "source": [
    "Let's evaluate with more relevant metrics:"
   ]
  },
  {
   "attachments": {},
   "cell_type": "markdown",
   "metadata": {},
   "source": [
    "# Evaluation "
   ]
  },
  {
   "attachments": {},
   "cell_type": "markdown",
   "metadata": {},
   "source": [
    "## PureSVD"
   ]
  },
  {
   "cell_type": "code",
   "execution_count": 22,
   "metadata": {},
   "outputs": [],
   "source": [
    "def svd_model_scoring(params, data, data_description):\n",
    "    item_factors, sigma = params\n",
    "    test_matrix = matrix_from_observations(data, data_description)\n",
    "    test_users = data_description['test_users']\n",
    "    scores = test_matrix[test_users, :].dot(item_factors) @ item_factors.T\n",
    "    return scores"
   ]
  },
  {
   "cell_type": "code",
   "execution_count": 23,
   "metadata": {},
   "outputs": [],
   "source": [
    "userid = data_description['users']\n",
    "data_description['test_users'] = test_users = holdout[userid].values\n",
    "seen_data = training.loc[lambda x: x[userid].isin(test_users)]\n",
    "\n",
    "svd_scores = svd_model_scoring(svd_params, seen_data, data_description)"
   ]
  },
  {
   "cell_type": "code",
   "execution_count": 24,
   "metadata": {},
   "outputs": [],
   "source": [
    "downvote_seen_items(svd_scores, seen_data, data_description)"
   ]
  },
  {
   "cell_type": "code",
   "execution_count": 25,
   "metadata": {},
   "outputs": [
    {
     "data": {
      "text/plain": [
       "(0.08645246770453793, 0.029794831148756293, 0.37607991360691145)"
      ]
     },
     "execution_count": 25,
     "metadata": {},
     "output_type": "execute_result"
    }
   ],
   "source": [
    "svd_recs = topn_recommendations(svd_scores, topn=10)\n",
    "model_evaluate(svd_recs, holdout, data_description)"
   ]
  },
  {
   "attachments": {},
   "cell_type": "markdown",
   "metadata": {},
   "source": [
    "## Shifted"
   ]
  },
  {
   "cell_type": "code",
   "execution_count": 26,
   "metadata": {},
   "outputs": [],
   "source": [
    "def shifted_model_scoring(params, data, data_description):\n",
    "    item_factors, sigma = params\n",
    "    test_matrix = matrix_from_observations(data, data_description)\n",
    "    test_users = data_description['test_users']\n",
    "    average_rating = data_description['average_rating']\n",
    "    centered_matrix = test_matrix[test_users]._with_data(test_matrix.data-average_rating)\n",
    "    user_factors = centered_matrix.dot(item_factors) + average_rating * item_factors.sum(axis=0)\n",
    "    scores = user_factors @ item_factors.T\n",
    "    return scores"
   ]
  },
  {
   "cell_type": "code",
   "execution_count": 29,
   "metadata": {},
   "outputs": [],
   "source": [
    "data_description['average_rating'] = training['rating'].mean()\n",
    "\n",
    "shifted_scores = shifted_model_scoring(\n",
    "    shifted_params,\n",
    "    seen_data,\n",
    "    data_description\n",
    ")"
   ]
  },
  {
   "cell_type": "code",
   "execution_count": 30,
   "metadata": {},
   "outputs": [],
   "source": [
    "downvote_seen_items(shifted_scores, seen_data, data_description)"
   ]
  },
  {
   "cell_type": "code",
   "execution_count": 31,
   "metadata": {},
   "outputs": [
    {
     "data": {
      "text/plain": [
       "(0.050513415038092084, 0.01849818872011651, 0.31641468682505397)"
      ]
     },
     "execution_count": 31,
     "metadata": {},
     "output_type": "execute_result"
    }
   ],
   "source": [
    "shifted_recs = topn_recommendations(shifted_scores)\n",
    "model_evaluate(shifted_recs, holdout, data_description)"
   ]
  },
  {
   "attachments": {},
   "cell_type": "markdown",
   "metadata": {},
   "source": [
    "So, we improved RMSE loss almost by 2.5x, but lost in terms of HitRate by more than 1.5x."
   ]
  },
  {
   "attachments": {},
   "cell_type": "markdown",
   "metadata": {},
   "source": [
    "Let's check for a range of rank values,  as the models do not have to have the same rank for optimal quality."
   ]
  },
  {
   "attachments": {},
   "cell_type": "markdown",
   "metadata": {},
   "source": [
    "# Grid-search experiment"
   ]
  },
  {
   "attachments": {},
   "cell_type": "markdown",
   "metadata": {},
   "source": [
    "Let's write a universal evaluation function that takes model parameters and scoring function as input and returns target evaluation metrics."
   ]
  },
  {
   "cell_type": "code",
   "execution_count": 33,
   "metadata": {},
   "outputs": [],
   "source": [
    "def evaluate_svd(params, model_scoring):\n",
    "    # we will use HR as a target metric for tuning\n",
    "    scores = model_scoring(params, seen_data, data_description)\n",
    "    downvote_seen_items(scores, seen_data, data_description)\n",
    "    recs = topn_recommendations(scores, topn=10)\n",
    "    hr, *_ = model_evaluate(recs, holdout, data_description)\n",
    "    return hr"
   ]
  },
  {
   "cell_type": "code",
   "execution_count": 34,
   "metadata": {},
   "outputs": [
    {
     "name": "stderr",
     "output_type": "stream",
     "text": [
      "100%|██████████| 9/9 [00:09<00:00,  1.00s/it]\n"
     ]
    }
   ],
   "source": [
    "ranks = [16, 24, 32, 48, 64, 96, 128, 192, 256]\n",
    "svd_hr = {'standard': {}, 'shifted': {}}\n",
    "\n",
    "svd_params = build_svd_model({'rank': max(ranks)}, training, data_description)\n",
    "shifted_params = build_shifted_model({'rank': max(ranks)}, training, data_description)\n",
    "\n",
    "for rank in tqdm(ranks):\n",
    "    # standard model\n",
    "    item_factors, singvals = svd_params\n",
    "    rank_params = item_factors[:, :rank], singvals[:rank]\n",
    "    svd_hr['standard'][rank] = evaluate_svd(rank_params, svd_model_scoring)\n",
    "    # shifted model\n",
    "    item_factors, singvals = shifted_params\n",
    "    rank_params = item_factors[:, :rank], singvals[:rank]\n",
    "    svd_hr['shifted'][rank] = evaluate_svd(rank_params, shifted_model_scoring)"
   ]
  },
  {
   "attachments": {},
   "cell_type": "markdown",
   "metadata": {},
   "source": [
    "Let's plot the results."
   ]
  },
  {
   "cell_type": "code",
   "execution_count": 35,
   "metadata": {},
   "outputs": [
    {
     "data": {
      "image/png": "[encoded data removed]",
      "text/plain": [
       "<Figure size 432x288 with 1 Axes>"
      ]
     },
     "metadata": {
      "needs_background": "light"
     },
     "output_type": "display_data"
    }
   ],
   "source": [
    "ax = pd.DataFrame(svd_hr).plot()\n",
    "ax.set_xlabel('rank')\n",
    "ax.set_ylabel('HR');"
   ]
  },
  {
   "attachments": {},
   "cell_type": "markdown",
   "metadata": {},
   "source": [
    "Optimal rank values for models:"
   ]
  },
  {
   "cell_type": "code",
   "execution_count": 105,
   "metadata": {},
   "outputs": [
    {
     "data": {
      "text/plain": [
       "standard    96\n",
       "shifted     64\n",
       "dtype: int64"
      ]
     },
     "execution_count": 105,
     "metadata": {},
     "output_type": "execute_result"
    }
   ],
   "source": [
    "pd.DataFrame(svd_hr).idxmax()"
   ]
  }
 ],
 "metadata": {
  "interpreter": {
   "hash": "3afa3a53b6c5115441aadb460f6d4b1cc743652d4c25bab805986e920f52c789"
  },
  "kernelspec": {
   "display_name": "Python 3.10.4 ('sberrec')",
   "language": "python",
   "name": "python3"
  },
  "language_info": {
   "codemirror_mode": {
    "name": "ipython",
    "version": 3
   },
   "file_extension": ".py",
   "mimetype": "text/x-python",
   "name": "python",
   "nbconvert_exporter": "python",
   "pygments_lexer": "ipython3",
   "version": "3.10.4"
  },
  "orig_nbformat": 4
 },
 "nbformat": 4,
 "nbformat_minor": 2
}
